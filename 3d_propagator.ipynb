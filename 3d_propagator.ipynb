{
 "cells": [
  {
   "cell_type": "code",
   "execution_count": 1,
   "metadata": {},
   "outputs": [],
   "source": [
    "import numpy as np\n",
    "import tal\n",
    "import matplotlib.pyplot as plt\n",
    "import matplotlib\n",
    "\n",
    "from phasor_fields import phasor_fields_reconstruction, phasor_fields_filter\n",
    "from zero_phase_corrector import adaptive_z_reconstruction\n",
    "from backprojection import back_projection\n",
    "from visualizer import StreakPlotter\n",
    "\n",
    "import time\n",
    "\n",
    "%load_ext autoreload\n",
    "%autoreload 2"
   ]
  },
  {
   "cell_type": "code",
   "execution_count": 2,
   "metadata": {},
   "outputs": [],
   "source": [
    "# src = '../nlos_dataset/3d_small_planes/'\n",
    "# data_file = '2d_3_plane.hdf5'\n",
    "# data_file = '2d_1_plane_center.hdf5'\n",
    "# data_file = '2d_1_plane_center_tilted.hdf5'\n",
    "# data_file = '2d_2_planes_center_smaller_1cm.hdf5'\n",
    "# data_file = '2d_2_planes_center_smaller_1mm.hdf5'\n",
    "# data_file = '2d_2_planes_center_smaller_100um.hdf5'\n",
    "# data_file = '2d_2_planes_center_smaller_10um.hdf5'\n",
    "# data_file = '2d_2_planes_center_smaller_1um.hdf5'\n",
    "# data_file = '2d_1_plane_right.hdf5'\n",
    "# data_file = '2d_1_plane_right_tilted.hdf5'\n",
    "# data_file = '2d_2_planes_center_right.hdf5'\n",
    "# data_file = '2d_2_planes_center_right_nmc.hdf5'\n",
    "# data_file = '2d_2_planes_left_right.hdf5'\n",
    "# src = '../nlos_dataset/mesh_R_256x256/front/'\n",
    "# data_file = 'data.hdf5'; switch_indices=lambda data: data.swapaxes(0, -1)\n",
    "# src = '../nlos_dataset/'\n",
    "# data_file = 'performat_letter4.hdf5'\n",
    "# switch_indices=lambda data: np.moveaxis(data, 0, 2)\n",
    "\n",
    "# src = '../nlos_dataset/3d_small_planes/20240611-194813/'\n",
    "# data_file = 'plane1_z[2.5]_x[0.0]_rot[0].hdf5'\n",
    "src = '../nlos_dataset/3d_small_planes/hdf5_ln_files/'\n",
    "data_file = 'plane1_z[1.0]_x[0.0]_rot[10].hdf5'\n",
    "\n",
    "# Volume definition \n",
    "delta_z = 0.0001\n",
    "z_begin = 0.5\n",
    "z_end = 1.5\n",
    "# PF filter definition\n",
    "starting_central_wavelength = 0.2\n",
    "ending_central_wavelength = 0.05\n",
    "n_pulses = 5\n",
    "\n",
    "# Number of threads\n",
    "n_threads = 1"
   ]
  },
  {
   "cell_type": "code",
   "execution_count": 3,
   "metadata": {},
   "outputs": [
    {
     "name": "stdout",
     "output_type": "stream",
     "text": [
      "../nlos_dataset/3d_small_planes/hdf5_ln_files/plane1_z[1.0]_x[0.0]_rot[10].hdf5 is a link. Following link...\n"
     ]
    }
   ],
   "source": [
    "z_grid = np.mgrid[z_begin:z_end:delta_z]\n",
    "\n",
    "full_path = src + data_file\n",
    "data = tal.io.read_capture(full_path)\n",
    "\n",
    "medium_idx = data.H.shape[2]//2\n",
    "data.H = data.H[:,:,medium_idx:-medium_idx+1]\n",
    "# Capture grid\n",
    "data.sensor_grid_xyz = data.sensor_grid_xyz[:,medium_idx:-medium_idx+1]\n",
    "gt_medium_idx = data.hidden_depth_grid_xyz.shape[1]//2\n",
    "data.hidden_depth_grid_xyz = data.hidden_depth_grid_xyz.swapaxes(0,1)[-1:0:-1,gt_medium_idx:-gt_medium_idx+1,...]\n",
    "data.hidden_depth_grid_normals = data.hidden_depth_grid_normals.swapaxes(0,1)[-1:0:-1,:,gt_medium_idx:-gt_medium_idx+1,...]\n",
    "# Illumination point\n",
    "xl = data.laser_grid_xyz[0,0]\n",
    "\n",
    "# V_coords = np.array(np.meshgrid(data.sensor_grid_xyz[:,0,0],\n",
    "#                                 data.sensor_grid_xyz[0,:,1],\n",
    "#                                 z_grid)).swapaxes(0,-1)\n",
    "\n",
    "V_coords = data.sensor_grid_xyz \\\n",
    "            + np.array([0,0,1])*z_grid.reshape(-1, 1, 1, 1)\n"
   ]
  },
  {
   "cell_type": "code",
   "execution_count": 4,
   "metadata": {},
   "outputs": [
    {
     "name": "stderr",
     "output_type": "stream",
     "text": [
      "Reconstructed: 100%|██████████| 10000/10000 [00:16<00:00, 597.50it/s]\n",
      "Reconstructed: 100%|██████████| 11/11 [00:00<00:00, 3569.34it/s]\n",
      "Reconstructed: 100%|██████████| 3/3 [00:00<00:00, 499.12it/s]\n",
      "Reconstructed: 100%|██████████| 1/1 [00:00<00:00, 249.57it/s]\n",
      "Reconstructed: 100%|██████████| 1/1 [00:00<00:00, 249.35it/s]\n",
      "Reconstructed: 100%|██████████| 4/4 [00:00<00:00, 800.21it/s]\n",
      "Reconstructed: 0it [00:00, ?it/s]\n",
      "Reconstructed: 100%|██████████| 1/1 [00:00<00:00, 114.40it/s]\n",
      "Reconstructed: 100%|██████████| 1/1 [00:00<00:00, 115.78it/s]\n",
      "Reconstructed: 0it [00:00, ?it/s]\n",
      "Reconstructed: 100%|██████████| 1/1 [00:00<00:00, 124.67it/s]\n",
      "Reconstructed: 100%|██████████| 3/3 [00:00<00:00, 315.84it/s]\n",
      "Reconstructed: 100%|██████████| 2/2 [00:00<00:00, 180.98it/s]\n",
      "Reconstructed: 100%|██████████| 7/7 [00:00<00:00, 466.74it/s]"
     ]
    },
    {
     "name": "stdout",
     "output_type": "stream",
     "text": [
      "Dense reconstruction took 16.992734670639038.\n",
      "\tkernels used: 1921170\n",
      "\treconstructed voxels: 1280000\n",
      "Adaptive reconstruction took 1.268209457397461.\n",
      "\treconstructed voxels: 2304\n",
      "\titerations: 3\n",
      "\ttotal kernels used: 3570\n"
     ]
    },
    {
     "name": "stderr",
     "output_type": "stream",
     "text": [
      "\n"
     ]
    }
   ],
   "source": [
    "s_pf_dense = time.time()\n",
    "pf_analysis = {}\n",
    "dense_V = phasor_fields_reconstruction(data, ending_central_wavelength, \n",
    "                                        n_pulses, z_begin, z_end, delta_z, \n",
    "                                        xl, n_threads = n_threads, \n",
    "                                        analysis=pf_analysis)\n",
    "e_pf_dense = time.time()\n",
    "\n",
    "s_adaptive = time.time()\n",
    "adaptive_analysis = {}\n",
    "result_coordinates = adaptive_z_reconstruction(data,\n",
    "                                                starting_central_wavelength,\n",
    "                                                ending_central_wavelength,\n",
    "                                                n_pulses, z_begin, z_end, \n",
    "                                                xl, n_threads = n_threads,\n",
    "                                        analysis_result=adaptive_analysis)\n",
    "e_adaptive = time.time()\n",
    "max_coords_V, zero_phase_point = result_coordinates\n",
    "\n",
    "print(f'Dense reconstruction took {e_pf_dense - s_pf_dense}.')\n",
    "for key in pf_analysis:\n",
    "    print(f'\\t{key}: {pf_analysis[key]}')\n",
    "print(f'Adaptive reconstruction took {e_adaptive - s_adaptive}.')\n",
    "for key in adaptive_analysis:\n",
    "    print(f'\\t{key}: {adaptive_analysis[key]}')"
   ]
  },
  {
   "cell_type": "code",
   "execution_count": 5,
   "metadata": {},
   "outputs": [],
   "source": [
    "# Save the results\n",
    "np.save('dense_reconstruction', dense_V)\n",
    "np.save('adaptive_depth', max_coords_V)\n",
    "np.save('adaptive_zero_phase', zero_phase_point)"
   ]
  },
  {
   "cell_type": "code",
   "execution_count": 6,
   "metadata": {},
   "outputs": [],
   "source": [
    "# # Applies backprojection\n",
    "# wl, weights, fH = phasor_fields_filter(ending_central_wavelength, \n",
    "#                                         n_pulses, data,False)\n",
    "# filtered_H = np.sum(weights.reshape(-1,1,1,1)*fH[:,np.newaxis] * np.exp((2j*np.pi/wl.reshape(-1,1,1,1))*np.arange(data.H.shape[0]).reshape(-1,1,1)*data.delta_t), axis = 0)\n",
    "# dense_V_bp = back_projection(V_coords, filtered_H, data.sensor_grid_xyz, \n",
    "#                             data.laser_grid_xyz, data.delta_t, \n",
    "#                             n_threads = n_threads)\n",
    "# np.save('dense_reconstruction_bp', dense_V_bp)"
   ]
  },
  {
   "cell_type": "code",
   "execution_count": 7,
   "metadata": {},
   "outputs": [],
   "source": [
    "# plt.plot(filtered_H[1600:1750, 0, 64]/ np.max(filtered_H[:, 0, 64]) )\n",
    "# plt.plot(np.abs(filtered_H[1600:1750, 0, 64]/ np.max(filtered_H[:, 0, 64])) )\n",
    "# # np.convolve(data.H[:])\n",
    "# pulse = np.sum(weights.reshape(-1,1)* np.exp((2j*np.pi/wl.reshape(-1,1))*np.arange(data.H.shape[0])*data.delta_t), axis = 0)\n",
    "# plt.plot(pulse / np.max(pulse))\n",
    "# plt.show()"
   ]
  },
  {
   "cell_type": "code",
   "execution_count": 8,
   "metadata": {},
   "outputs": [
    {
     "name": "stderr",
     "output_type": "stream",
     "text": [
      "d:\\Documentos\\NLOS\\zero_phase_NLOS\\visualizer.py:73: UserWarning: set_ticklabels() should only be used with a fixed number of ticks, i.e. after set_ticks() or using a FixedLocator.\n",
      "  ax[0].set_yticklabels([\"{:0.4f}\".format(tick) for tick in ytick_label] )\n"
     ]
    }
   ],
   "source": [
    "\n",
    "plotter = StreakPlotter(V_coords, 'dense_reconstruction.npy', \n",
    "                                    'adaptive_depth.npy',\n",
    "                                    'adaptive_zero_phase.npy',\n",
    "                                    data.hidden_depth_grid_xyz)\n",
    "\n",
    "# plotter = StreakPlotter(V_coords, 'dense_reconstruction_4r.npy', \n",
    "#                                     'adaptive_depth_4r.npy',\n",
    "#                                     'adaptive_zero_phase_4r.npy',\n",
    "#                                     data.hidden_depth_grid_xyz)\n",
    "plotter[:,0].plot()"
   ]
  },
  {
   "cell_type": "code",
   "execution_count": 9,
   "metadata": {},
   "outputs": [
    {
     "data": {
      "text/plain": [
       "<Figure size 640x480 with 1 Axes>"
      ]
     },
     "metadata": {},
     "output_type": "display_data"
    },
    {
     "data": {
      "text/plain": [
       "<Figure size 640x480 with 1 Axes>"
      ]
     },
     "metadata": {},
     "output_type": "display_data"
    }
   ],
   "source": [
    "zero_phase_4r = np.load('results/preformat_4letter/adaptive_zero_phase_4r.npy')\n",
    "dense_4r = np.load('results/preformat_4letter/dense_reconstruction_4r.npy')\n",
    "\n",
    "plt.imshow(zero_phase_4r[:,2].reshape(dense_4r.shape[1:]))\n",
    "plt.show()\n",
    "plt.imshow(np.argmax(dense_4r, axis = 0))\n",
    "plt.show()"
   ]
  }
 ],
 "metadata": {
  "kernelspec": {
   "display_name": "Python 3",
   "language": "python",
   "name": "python3"
  },
  "language_info": {
   "codemirror_mode": {
    "name": "ipython",
    "version": 3
   },
   "file_extension": ".py",
   "mimetype": "text/x-python",
   "name": "python",
   "nbconvert_exporter": "python",
   "pygments_lexer": "ipython3",
   "version": "3.11.7"
  }
 },
 "nbformat": 4,
 "nbformat_minor": 2
}
